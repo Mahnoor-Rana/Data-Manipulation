{
 "cells": [
  {
   "cell_type": "markdown",
   "id": "4548c731",
   "metadata": {},
   "source": [
    "## Importing Libraries"
   ]
  },
  {
   "cell_type": "code",
   "execution_count": 1,
   "id": "8148e9ad",
   "metadata": {},
   "outputs": [],
   "source": [
    "import pandas as pd\n",
    "\n",
    "reviews = pd.read_csv(\"winemag-data-130k-v2.csv\", index_col=0)"
   ]
  },
  {
   "cell_type": "markdown",
   "id": "02e7c620",
   "metadata": {},
   "source": [
    "## Exercises\n",
    "# 1.\n",
    "What is the data type of the points column in the dataset?"
   ]
  },
  {
   "cell_type": "code",
   "execution_count": 2,
   "id": "29e28147",
   "metadata": {},
   "outputs": [],
   "source": [
    "dtype = reviews.points.dtypes\n"
   ]
  },
  {
   "cell_type": "markdown",
   "id": "681225c4",
   "metadata": {},
   "source": [
    "# 2.\n",
    "Create a Series from entries in the points column, but convert the entries to strings. Hint: strings are str in native Python."
   ]
  },
  {
   "cell_type": "code",
   "execution_count": 3,
   "id": "ef827c6b",
   "metadata": {},
   "outputs": [],
   "source": [
    "point_strings = reviews.points.astype('str')\n"
   ]
  },
  {
   "cell_type": "markdown",
   "id": "6dbd5302",
   "metadata": {},
   "source": [
    "# 3.\n",
    "Sometimes the price column is null. How many reviews in the dataset are missing a price?"
   ]
  },
  {
   "cell_type": "code",
   "execution_count": 4,
   "id": "c3561470",
   "metadata": {},
   "outputs": [],
   "source": [
    "n_missing_prices = reviews.price.isnull().sum()\n"
   ]
  },
  {
   "cell_type": "markdown",
   "id": "245aa3f4",
   "metadata": {},
   "source": [
    "# 4.\n",
    "What are the most common wine-producing regions? Create a Series counting the number of times each value occurs in the region_1 field. This field is often missing data, so replace missing values with Unknown. Sort in descending order. Your output should look something like this:"
   ]
  },
  {
   "cell_type": "raw",
   "id": "d4169ef0",
   "metadata": {},
   "source": [
    "Unknown                    21247\n",
    "Napa Valley                 4480\n",
    "                           ...  \n",
    "Bardolino Superiore            1\n",
    "Primitivo del Tarantino        1\n",
    "Name: region_1, Length: 1230, dtype: int64"
   ]
  },
  {
   "cell_type": "code",
   "execution_count": 5,
   "id": "5d5e33cf",
   "metadata": {},
   "outputs": [],
   "source": [
    "reviews_per_region = reviews.region_1.fillna('Unknown').value_counts().sort_values(ascending = False)\n"
   ]
  }
 ],
 "metadata": {
  "kernelspec": {
   "display_name": "Python 3 (ipykernel)",
   "language": "python",
   "name": "python3"
  },
  "language_info": {
   "codemirror_mode": {
    "name": "ipython",
    "version": 3
   },
   "file_extension": ".py",
   "mimetype": "text/x-python",
   "name": "python",
   "nbconvert_exporter": "python",
   "pygments_lexer": "ipython3",
   "version": "3.9.12"
  }
 },
 "nbformat": 4,
 "nbformat_minor": 5
}
